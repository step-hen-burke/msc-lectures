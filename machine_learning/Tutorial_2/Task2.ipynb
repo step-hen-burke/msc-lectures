{
 "cells": [
  {
   "cell_type": "code",
   "execution_count": 16,
   "id": "bbfa8c57-aa02-4c00-bfc1-e9fe54ad75e7",
   "metadata": {},
   "outputs": [],
   "source": [
    "import pandas as pd\n",
    "import seaborn as sns\n",
    "import matplotlib.pyplot as plt\n",
    "from sklearn.metrics import classification_report, confusion_matrix, accuracy_score\n",
    "from sklearn.model_selection import train_test_split\n",
    "from sklearn.preprocessing import OneHotEncoder\n",
    "from sklearn.ensemble import RandomForestClassifier\n",
    "import warnings\n",
    "warnings.filterwarnings('ignore')"
   ]
  },
  {
   "cell_type": "markdown",
   "id": "434ea7c1-e558-466f-9d1c-472eafb4a3ce",
   "metadata": {},
   "source": [
    "Dataset is missing its header - so colnames were retrieved from https://www.kaggle.com/datasets/elikplim/car-evaluation-data-set\n",
    "\n",
    "It's unclear what the decision column is, and it's not mentioned in the data dictionary on Kaggle, so might have been included by mistake. I think it makes sense to have safety as a target variable for classification. I'm removing the decision and proceeding with the 6 columns defined on Kaggle."
   ]
  },
  {
   "cell_type": "code",
   "execution_count": 21,
   "id": "1629022e-0003-42bc-9977-631f6afba62a",
   "metadata": {},
   "outputs": [
    {
     "data": {
      "text/html": [
       "<div>\n",
       "<style scoped>\n",
       "    .dataframe tbody tr th:only-of-type {\n",
       "        vertical-align: middle;\n",
       "    }\n",
       "\n",
       "    .dataframe tbody tr th {\n",
       "        vertical-align: top;\n",
       "    }\n",
       "\n",
       "    .dataframe thead th {\n",
       "        text-align: right;\n",
       "    }\n",
       "</style>\n",
       "<table border=\"1\" class=\"dataframe\">\n",
       "  <thead>\n",
       "    <tr style=\"text-align: right;\">\n",
       "      <th></th>\n",
       "      <th>buying_price</th>\n",
       "      <th>maintainance_cost</th>\n",
       "      <th>doors</th>\n",
       "      <th>persons</th>\n",
       "      <th>lug_boot</th>\n",
       "      <th>safety</th>\n",
       "    </tr>\n",
       "  </thead>\n",
       "  <tbody>\n",
       "    <tr>\n",
       "      <th>0</th>\n",
       "      <td>vhigh</td>\n",
       "      <td>vhigh</td>\n",
       "      <td>2</td>\n",
       "      <td>2</td>\n",
       "      <td>small</td>\n",
       "      <td>low</td>\n",
       "    </tr>\n",
       "    <tr>\n",
       "      <th>1</th>\n",
       "      <td>vhigh</td>\n",
       "      <td>vhigh</td>\n",
       "      <td>2</td>\n",
       "      <td>2</td>\n",
       "      <td>small</td>\n",
       "      <td>med</td>\n",
       "    </tr>\n",
       "    <tr>\n",
       "      <th>2</th>\n",
       "      <td>vhigh</td>\n",
       "      <td>vhigh</td>\n",
       "      <td>2</td>\n",
       "      <td>2</td>\n",
       "      <td>small</td>\n",
       "      <td>high</td>\n",
       "    </tr>\n",
       "    <tr>\n",
       "      <th>3</th>\n",
       "      <td>vhigh</td>\n",
       "      <td>vhigh</td>\n",
       "      <td>2</td>\n",
       "      <td>2</td>\n",
       "      <td>med</td>\n",
       "      <td>low</td>\n",
       "    </tr>\n",
       "    <tr>\n",
       "      <th>4</th>\n",
       "      <td>vhigh</td>\n",
       "      <td>vhigh</td>\n",
       "      <td>2</td>\n",
       "      <td>2</td>\n",
       "      <td>med</td>\n",
       "      <td>med</td>\n",
       "    </tr>\n",
       "  </tbody>\n",
       "</table>\n",
       "</div>"
      ],
      "text/plain": [
       "  buying_price maintainance_cost doors persons lug_boot safety\n",
       "0        vhigh             vhigh     2       2    small    low\n",
       "1        vhigh             vhigh     2       2    small    med\n",
       "2        vhigh             vhigh     2       2    small   high\n",
       "3        vhigh             vhigh     2       2      med    low\n",
       "4        vhigh             vhigh     2       2      med    med"
      ]
     },
     "execution_count": 21,
     "metadata": {},
     "output_type": "execute_result"
    }
   ],
   "source": [
    "columns = ['buying_price', 'maintainance_cost', 'doors', 'persons', 'lug_boot', 'safety', 'decision']\n",
    "df = pd.read_csv('car_evaluation.csv', names=columns).drop('decision', axis=1)\n",
    "df.head()"
   ]
  },
  {
   "cell_type": "code",
   "execution_count": 22,
   "id": "63ffc0c0-fd67-41c8-9c4b-432941562928",
   "metadata": {},
   "outputs": [
    {
     "data": {
      "text/plain": [
       "buying_price         object\n",
       "maintainance_cost    object\n",
       "doors                object\n",
       "persons              object\n",
       "lug_boot             object\n",
       "dtype: object"
      ]
     },
     "execution_count": 22,
     "metadata": {},
     "output_type": "execute_result"
    }
   ],
   "source": [
    "X_train.dtypes"
   ]
  },
  {
   "cell_type": "markdown",
   "id": "ebe048f2-9abc-4411-a915-978d1572b1e4",
   "metadata": {},
   "source": [
    "We need to do something with the categorical variables before we can apply random forest"
   ]
  },
  {
   "cell_type": "code",
   "execution_count": 24,
   "id": "d1e404d2-100b-4358-ad91-6c8abd6fedb2",
   "metadata": {},
   "outputs": [
    {
     "data": {
      "text/plain": [
       "<1728x18 sparse matrix of type '<class 'numpy.float64'>'\n",
       "\twith 8640 stored elements in Compressed Sparse Row format>"
      ]
     },
     "execution_count": 24,
     "metadata": {},
     "output_type": "execute_result"
    }
   ],
   "source": [
    "encoder = OneHotEncoder()\n",
    "encoded_df = encoder.fit_transform(df.iloc[:,:-1], df.iloc[:,-1])\n",
    "encoded_df"
   ]
  },
  {
   "cell_type": "markdown",
   "id": "0e59a4e4-bf5e-4279-98a2-abfad6cd16e6",
   "metadata": {},
   "source": [
    "We need to get the names of the features so we can use them later in the graph"
   ]
  },
  {
   "cell_type": "code",
   "execution_count": 35,
   "id": "58bc33f2-1454-494a-b289-b46af039188a",
   "metadata": {},
   "outputs": [
    {
     "data": {
      "text/plain": [
       "array(['buying_price_high', 'buying_price_low', 'buying_price_med',\n",
       "       'buying_price_vhigh', 'maintainance_cost_high',\n",
       "       'maintainance_cost_low', 'maintainance_cost_med',\n",
       "       'maintainance_cost_vhigh', 'doors_2', 'doors_3', 'doors_4',\n",
       "       'doors_5more', 'persons_2', 'persons_4', 'persons_more',\n",
       "       'lug_boot_big', 'lug_boot_med', 'lug_boot_small'], dtype=object)"
      ]
     },
     "execution_count": 35,
     "metadata": {},
     "output_type": "execute_result"
    }
   ],
   "source": [
    "x_names = encoder.get_feature_names_out()\n",
    "x_names"
   ]
  },
  {
   "cell_type": "markdown",
   "id": "a5474d16-6fcc-42a9-96c0-eca2b5ec6365",
   "metadata": {},
   "source": [
    "The encoded df is just the X variables, so we pass that directly, and use the y from the original df"
   ]
  },
  {
   "cell_type": "code",
   "execution_count": 30,
   "id": "a54cc5e5-27bb-4cd9-810b-6a56bc4101c7",
   "metadata": {},
   "outputs": [],
   "source": [
    "X_train, X_test, y_train, y_test = train_test_split(encoded_df, df.iloc[:,-1], test_size = 0.2, random_state = 495)\n"
   ]
  },
  {
   "cell_type": "code",
   "execution_count": 32,
   "id": "a07b7704-d802-4eee-99f5-18c8dd259c83",
   "metadata": {},
   "outputs": [
    {
     "data": {
      "text/plain": [
       "<1382x18 sparse matrix of type '<class 'numpy.float64'>'\n",
       "\twith 6910 stored elements in Compressed Sparse Row format>"
      ]
     },
     "execution_count": 32,
     "metadata": {},
     "output_type": "execute_result"
    }
   ],
   "source": [
    "X_train"
   ]
  },
  {
   "cell_type": "code",
   "execution_count": 33,
   "id": "57517ef8-9752-4b29-ad1a-ccc8e80158ed",
   "metadata": {},
   "outputs": [
    {
     "data": {
      "text/html": [
       "<style>#sk-container-id-2 {color: black;}#sk-container-id-2 pre{padding: 0;}#sk-container-id-2 div.sk-toggleable {background-color: white;}#sk-container-id-2 label.sk-toggleable__label {cursor: pointer;display: block;width: 100%;margin-bottom: 0;padding: 0.3em;box-sizing: border-box;text-align: center;}#sk-container-id-2 label.sk-toggleable__label-arrow:before {content: \"▸\";float: left;margin-right: 0.25em;color: #696969;}#sk-container-id-2 label.sk-toggleable__label-arrow:hover:before {color: black;}#sk-container-id-2 div.sk-estimator:hover label.sk-toggleable__label-arrow:before {color: black;}#sk-container-id-2 div.sk-toggleable__content {max-height: 0;max-width: 0;overflow: hidden;text-align: left;background-color: #f0f8ff;}#sk-container-id-2 div.sk-toggleable__content pre {margin: 0.2em;color: black;border-radius: 0.25em;background-color: #f0f8ff;}#sk-container-id-2 input.sk-toggleable__control:checked~div.sk-toggleable__content {max-height: 200px;max-width: 100%;overflow: auto;}#sk-container-id-2 input.sk-toggleable__control:checked~label.sk-toggleable__label-arrow:before {content: \"▾\";}#sk-container-id-2 div.sk-estimator input.sk-toggleable__control:checked~label.sk-toggleable__label {background-color: #d4ebff;}#sk-container-id-2 div.sk-label input.sk-toggleable__control:checked~label.sk-toggleable__label {background-color: #d4ebff;}#sk-container-id-2 input.sk-hidden--visually {border: 0;clip: rect(1px 1px 1px 1px);clip: rect(1px, 1px, 1px, 1px);height: 1px;margin: -1px;overflow: hidden;padding: 0;position: absolute;width: 1px;}#sk-container-id-2 div.sk-estimator {font-family: monospace;background-color: #f0f8ff;border: 1px dotted black;border-radius: 0.25em;box-sizing: border-box;margin-bottom: 0.5em;}#sk-container-id-2 div.sk-estimator:hover {background-color: #d4ebff;}#sk-container-id-2 div.sk-parallel-item::after {content: \"\";width: 100%;border-bottom: 1px solid gray;flex-grow: 1;}#sk-container-id-2 div.sk-label:hover label.sk-toggleable__label {background-color: #d4ebff;}#sk-container-id-2 div.sk-serial::before {content: \"\";position: absolute;border-left: 1px solid gray;box-sizing: border-box;top: 0;bottom: 0;left: 50%;z-index: 0;}#sk-container-id-2 div.sk-serial {display: flex;flex-direction: column;align-items: center;background-color: white;padding-right: 0.2em;padding-left: 0.2em;position: relative;}#sk-container-id-2 div.sk-item {position: relative;z-index: 1;}#sk-container-id-2 div.sk-parallel {display: flex;align-items: stretch;justify-content: center;background-color: white;position: relative;}#sk-container-id-2 div.sk-item::before, #sk-container-id-2 div.sk-parallel-item::before {content: \"\";position: absolute;border-left: 1px solid gray;box-sizing: border-box;top: 0;bottom: 0;left: 50%;z-index: -1;}#sk-container-id-2 div.sk-parallel-item {display: flex;flex-direction: column;z-index: 1;position: relative;background-color: white;}#sk-container-id-2 div.sk-parallel-item:first-child::after {align-self: flex-end;width: 50%;}#sk-container-id-2 div.sk-parallel-item:last-child::after {align-self: flex-start;width: 50%;}#sk-container-id-2 div.sk-parallel-item:only-child::after {width: 0;}#sk-container-id-2 div.sk-dashed-wrapped {border: 1px dashed gray;margin: 0 0.4em 0.5em 0.4em;box-sizing: border-box;padding-bottom: 0.4em;background-color: white;}#sk-container-id-2 div.sk-label label {font-family: monospace;font-weight: bold;display: inline-block;line-height: 1.2em;}#sk-container-id-2 div.sk-label-container {text-align: center;}#sk-container-id-2 div.sk-container {/* jupyter's `normalize.less` sets `[hidden] { display: none; }` but bootstrap.min.css set `[hidden] { display: none !important; }` so we also need the `!important` here to be able to override the default hidden behavior on the sphinx rendered scikit-learn.org. See: https://github.com/scikit-learn/scikit-learn/issues/21755 */display: inline-block !important;position: relative;}#sk-container-id-2 div.sk-text-repr-fallback {display: none;}</style><div id=\"sk-container-id-2\" class=\"sk-top-container\"><div class=\"sk-text-repr-fallback\"><pre>RandomForestClassifier()</pre><b>In a Jupyter environment, please rerun this cell to show the HTML representation or trust the notebook. <br />On GitHub, the HTML representation is unable to render, please try loading this page with nbviewer.org.</b></div><div class=\"sk-container\" hidden><div class=\"sk-item\"><div class=\"sk-estimator sk-toggleable\"><input class=\"sk-toggleable__control sk-hidden--visually\" id=\"sk-estimator-id-2\" type=\"checkbox\" checked><label for=\"sk-estimator-id-2\" class=\"sk-toggleable__label sk-toggleable__label-arrow\">RandomForestClassifier</label><div class=\"sk-toggleable__content\"><pre>RandomForestClassifier()</pre></div></div></div></div></div>"
      ],
      "text/plain": [
       "RandomForestClassifier()"
      ]
     },
     "execution_count": 33,
     "metadata": {},
     "output_type": "execute_result"
    }
   ],
   "source": [
    "clf = RandomForestClassifier(n_estimators=100)\n",
    "clf.fit(X_train, y_train)"
   ]
  },
  {
   "cell_type": "code",
   "execution_count": 34,
   "id": "8d43207b-f235-4c21-8c49-08c2f90ded49",
   "metadata": {},
   "outputs": [
    {
     "data": {
      "text/plain": [
       "array([0.05557961, 0.05345512, 0.05589283, 0.05605644, 0.05541027,\n",
       "       0.05983236, 0.05575551, 0.05318655, 0.05432856, 0.05161157,\n",
       "       0.05027858, 0.05289494, 0.06034695, 0.06017809, 0.0603045 ,\n",
       "       0.05814227, 0.05449356, 0.05225228])"
      ]
     },
     "execution_count": 34,
     "metadata": {},
     "output_type": "execute_result"
    }
   ],
   "source": [
    "clf.feature_importances_"
   ]
  },
  {
   "cell_type": "code",
   "execution_count": 36,
   "id": "aa752ed2-875a-4029-983c-f0ffdef287b1",
   "metadata": {},
   "outputs": [
    {
     "data": {
      "text/plain": [
       "persons_2                  0.060347\n",
       "persons_more               0.060304\n",
       "persons_4                  0.060178\n",
       "maintainance_cost_low      0.059832\n",
       "lug_boot_big               0.058142\n",
       "buying_price_vhigh         0.056056\n",
       "buying_price_med           0.055893\n",
       "maintainance_cost_med      0.055756\n",
       "buying_price_high          0.055580\n",
       "maintainance_cost_high     0.055410\n",
       "lug_boot_med               0.054494\n",
       "doors_2                    0.054329\n",
       "buying_price_low           0.053455\n",
       "maintainance_cost_vhigh    0.053187\n",
       "doors_5more                0.052895\n",
       "lug_boot_small             0.052252\n",
       "doors_3                    0.051612\n",
       "doors_4                    0.050279\n",
       "dtype: float64"
      ]
     },
     "execution_count": 36,
     "metadata": {},
     "output_type": "execute_result"
    }
   ],
   "source": [
    "feature_imp = pd.Series(clf.feature_importances_, index=x_names).sort_values(ascending=False)\n",
    "feature_imp"
   ]
  },
  {
   "cell_type": "code",
   "execution_count": 37,
   "id": "df855f68-fe4d-47b3-b2ea-f853eb50112d",
   "metadata": {},
   "outputs": [
    {
     "data": {
      "image/png": "[encoded data removed]",
      "text/plain": [
       "<Figure size 640x480 with 1 Axes>"
      ]
     },
     "metadata": {},
     "output_type": "display_data"
    }
   ],
   "source": [
    "%matplotlib inline\n",
    "# Creating a bar plot\n",
    "sns.barplot(x=feature_imp, y=feature_imp.index)\n",
    "# Add labels to your graph\n",
    "plt.xlabel('Feature Importance Score')\n",
    "plt.ylabel('Features')\n",
    "plt.title(\"Visualizing Important Features\")\n",
    "#plt.legend()\n",
    "plt.show()"
   ]
  },
  {
   "cell_type": "code",
   "execution_count": null,
   "id": "bba06fa5-8654-4892-9316-43e3a60a69ff",
   "metadata": {},
   "outputs": [],
   "source": []
  }
 ],
 "metadata": {
  "kernelspec": {
   "display_name": "Python 3 (ipykernel)",
   "language": "python",
   "name": "python3"
  },
  "language_info": {
   "codemirror_mode": {
    "name": "ipython",
    "version": 3
   },
   "file_extension": ".py",
   "mimetype": "text/x-python",
   "name": "python",
   "nbconvert_exporter": "python",
   "pygments_lexer": "ipython3",
   "version": "3.10.13"
  }
 },
 "nbformat": 4,
 "nbformat_minor": 5
}
